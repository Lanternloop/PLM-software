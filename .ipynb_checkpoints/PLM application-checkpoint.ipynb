{
 "cells": [
  {
   "metadata": {},
   "cell_type": "markdown",
   "source": [
    "# Inleiding\n",
    "In dit notebook demonstreren we hoe de PLM-applicatie werkt, inclusief CRUD-functionaliteiten. Er is gekozen om alleen 3 van de CRUD functionaliteiten te bouwen. Dit zal genoeg zijn om kern van het probleem op te lossen, wat is het kunnen beheren van een mode collectie. Bij latere iteraties kan er gekozen worden om extra functionaliteiten aan toe te voegen.\n",
    "\n",
    "\n",
    "Als eerste wordt een file_path variabel gemaakt. Dit zorgt ervoor dat als de file niet bestaat, er 1 wordt aangemaakt."
   ],
   "id": "c63dd816b9f21bce"
  },
  {
   "metadata": {
    "ExecuteTime": {
     "end_time": "2025-01-07T19:57:54.932337Z",
     "start_time": "2025-01-07T19:57:54.924813Z"
    }
   },
   "cell_type": "code",
   "source": [
    "import os\n",
    "file_path = os.path.abspath(\"Season_1.csv\")"
   ],
   "id": "420a73f04952f022",
   "outputs": [],
   "execution_count": 8
  },
  {
   "metadata": {},
   "cell_type": "markdown",
   "source": [
    "## `ManageStyle` Class - Overzicht\n",
    "\n",
    "De **`ManageStyle` class** is ontworpen om de CRUD-functionaliteiten (Create, Read, Update, Delete) te beheren voor stijlen in een collectie, die opgeslagen worden in een CSV-bestand. Deze class vormt de kern van de applicatie.\n",
    "\n",
    "---\n",
    "\n",
    "### Wat is het doel van de class?\n",
    "De class biedt een gestructureerde manier om stijlen in een collectie te beheren door:\n",
    "1. **Toevoegen (Create):**\n",
    "   - Voeg nieuwe stijlen toe aan het CSV-bestand met unieke kenmerken zoals `Style ID`, `Style name`, `Product type`, etc.\n",
    "2. **Verwijderen (Delete):**\n",
    "   - Verwijder een stijl op basis van het `Style ID`.\n",
    "\n",
    "---\n",
    "\n",
    "### Beschikbare methoden in de class\n",
    "De class bevat twee methoden:\n",
    "\n",
    "1. **`add_style(self):`**\n",
    "   - Voegt een nieuwe stijl toe aan het CSV-bestand.\n",
    "   - Zorgt ervoor dat er een kopregel wordt geschreven als het bestand nog niet bestaat.\n",
    "   - Gebruikt de ingevoerde gegevens om een nieuwe rij toe te voegen.\n",
    "\n",
    "2. **`delete_style(style_id_to_delete):`**\n",
    "   - Verwijdert een stijl uit het CSV-bestand op basis van het opgegeven `Style ID`.\n",
    "   - Schrijft de overgebleven stijlen opnieuw naar het bestand."
   ],
   "id": "6603fd31a7f47e3d"
  },
  {
   "metadata": {},
   "cell_type": "markdown",
   "source": [
    "## `add_style()` Functie - Beschrijving\n",
    "\n",
    "Deze functie voegt een nieuwe stijl toe aan een CSV-bestand. Het gebruikt de **`csv.DictWriter`** module om gegevens in een gestructureerd formaat te schrijven.\n",
    "\n",
    "### Wat doet deze functie?\n",
    "1. **Controle op Bestand:** De functie controleert of het CSV-bestand al bestaat. Als dit niet het geval is, wordt een nieuw bestand aangemaakt met een header.\n",
    "2. **Toevoegen van Data:** De functie schrijft een nieuwe rij naar het CSV-bestand met informatie over de stijl, zoals:\n",
    "   - `Style ID`\n",
    "   - `Style name`\n",
    "   - `Product type`\n",
    "   - `Textiles`\n",
    "   - `Size range`\n",
    "   - `Sizes`\n",
    "   - `Remarks`\n",
    "\n",
    "### Parameters (vanuit de Class, ManageStyle):\n",
    "- `self.style_id`: Een unieke ID voor de stijl.\n",
    "- `self.style_name`: Naam van de stijl.\n",
    "- `self.product_type`: Type product (bijv. \"Jackets\").\n",
    "- `self.textiles`: Gebruikte materialen (bijv. \"Cotton\").\n",
    "- `self.size_range`: Gender voor maten (bijv. \"Mens\").\n",
    "- `self.sizes`: Beschikbare maten (bijv. \"M, L\").\n",
    "- `self.remarks`: Opmerkingen of aanvullende informatie.\n",
    "\n",
    "\n",
    "Een voorbeeld van hoe de `add_style()` functie een stijl toevoegt:"
   ],
   "id": "e004261dc25ad20e"
  },
  {
   "cell_type": "code",
   "id": "initial_id",
   "metadata": {
    "collapsed": true,
    "ExecuteTime": {
     "end_time": "2025-01-07T20:46:54.987947Z",
     "start_time": "2025-01-07T20:46:54.969494Z"
    }
   },
   "source": [
    "from main_crud_functions import *\n",
    "style = ManageStyle(\n",
    "    style_id=\"001\",\n",
    "    style_name=\"Jacket\",\n",
    "    product_type=\"Outerwear\",\n",
    "    textiles=\"Cotton\",\n",
    "    size_range=\"Mens\",\n",
    "    sizes=\"M, L\",\n",
    "    remarks=\"Popular item\"\n",
    ")\n",
    "style.add_style()\n",
    "collectie = get_full_collection()\n",
    "print(collectie)"
   ],
   "outputs": [
    {
     "name": "stdout",
     "output_type": "stream",
     "text": [
      "[{'Style ID': '001', 'Style name': 'Jacket', 'Product type': 'Outerwear', 'Textiles': 'Cotton', 'Size range': 'Mens', 'Sizes': 'M, L', 'Remarks': 'Popular item'}]\n"
     ]
    }
   ],
   "execution_count": 8
  },
  {
   "metadata": {},
   "cell_type": "markdown",
   "source": [
    "### Code:\n",
    "Hier is de volledige code voor de `add_style()` functie."
   ],
   "id": "b7b140bd3d9e5bec"
  },
  {
   "metadata": {},
   "cell_type": "code",
   "outputs": [],
   "execution_count": null,
   "source": [
    "def add_style(self):\n",
    "    \"\"\"Voegt een nieuwe stijl toe aan het CSV bestand.\"\"\"\n",
    "    file_exists = os.path.exists(file_path)  # Controleert of het bestand bestaat\n",
    "\n",
    "    with open(file_path, mode='a', newline='',\n",
    "                encoding='utf-8') as dict_file:\n",
    "        fieldnames = ['Style ID', 'Style name', 'Product type', 'Textiles', 'Size range', 'Sizes', 'Remarks']\n",
    "        writer = csv.DictWriter(dict_file, fieldnames=fieldnames)\n",
    "\n",
    "        # Schrijft een kopregel als het bestand nieuw is\n",
    "        if not file_exists:\n",
    "            writer.writeheader()\n",
    "\n",
    "        # Schrijft de nieuwe stijl naar het bestand\n",
    "        writer.writerow({\n",
    "            'Style ID': self.style_id,\n",
    "            'Style name': self.style_name,\n",
    "            'Product type': self.product_type,\n",
    "            'Textiles': self.textiles,\n",
    "            'Size range': self.size_range,\n",
    "            'Sizes': self.sizes,\n",
    "            'Remarks': self.remarks\n",
    "        })"
   ],
   "id": "650d0f6b047e93f0"
  },
  {
   "metadata": {},
   "cell_type": "markdown",
   "source": [
    "## `get_full_collection()` Functie - Beschrijving\n",
    "\n",
    "Deze functie die hiervoor gebruikt was, leest de volledige collectie van stijlen uit het CSV-bestand en retourneert deze als een lijst van rijen.\n",
    "\n",
    "### Wat doet deze functie?\n",
    "1. **Controle op Bestand:** De functie controleert eerst of het opgegeven CSV-bestand bestaat.\n",
    "   - Als het bestand niet bestaat, retourneert de functie een lege lijst.\n",
    "2. **Lezen van Data:** Als het bestand bestaat, opent de functie het CSV-bestand in leesmodus en leest het alle rijen met behulp van **`csv.DictReader`**.\n",
    "3. **Retourneert een Lijst:** De gelezen gegevens worden geretourneerd als een lijst van dictionaries, waarbij elke dictionary een rij in het CSV-bestand vertegenwoordigt.\n",
    "\n",
    "### Parameters:\n",
    "Deze functie neemt geen parameters. Het werkt met het globale bestandspad, gedefinieerd als `file_path`.\n",
    "\n",
    "### Returnwaarde:\n",
    "- Een lijst van dictionaries waarin elke dictionary de gegevens van een stijl vertegenwoordigt.\n",
    "- Als het bestand leeg is of niet bestaat, retourneert de functie een lege lijst.\n",
    "\n",
    "---\n",
    "\n",
    "### Code:\n",
    "Hier is de volledige code voor de `get_full_collection()` functie.\n"
   ],
   "id": "80c0ef3857eef183"
  },
  {
   "metadata": {
    "ExecuteTime": {
     "end_time": "2025-01-10T12:00:17.361493Z",
     "start_time": "2025-01-10T12:00:17.355931Z"
    }
   },
   "cell_type": "code",
   "source": [
    "def get_full_collection():\n",
    "    \"\"\"Leest de volledige collectie van het CSV-bestand en retourneert een lijst.\"\"\"\n",
    "    # Controleert of het bestand bestaat\n",
    "    if not os.path.exists(file_path):\n",
    "        return []\n",
    "\n",
    "    # Opent het bestand in leesmodus en leest de data\n",
    "    with open(file_path, mode='r', newline='', encoding='utf-8') as dict_file:\n",
    "        reader = csv.DictReader(dict_file)\n",
    "        return list(reader)"
   ],
   "id": "ed871dd495512cb6",
   "outputs": [],
   "execution_count": 3
  },
  {
   "metadata": {},
   "cell_type": "markdown",
   "source": [
    "## `delete_style(style_id_to_delete)` Functie - Beschrijving\n",
    "\n",
    "Deze functie verwijdert een specifieke stijl uit het CSV-bestand op basis van het opgegeven **Style ID**.\n",
    "\n",
    "### Wat doet deze functie?\n",
    "1. **Lezen van Gegevens:**\n",
    "   - De functie opent het CSV-bestand en leest alle rijen in een lijst van dictionaries.\n",
    "2. **Filteren van Rijen:**\n",
    "   - Het verwijdert de rij waarvan het **Style ID** overeenkomt met de opgegeven `style_id_to_delete`.\n",
    "3. **Overschrijven van Bestand:**\n",
    "   - Het CSV-bestand wordt opnieuw geschreven zonder de verwijderde rij.\n",
    "4. **Bevestiging van Verwijdering:**\n",
    "   - Retourneert `True` als de operatie succesvol is.\n",
    "\n",
    "\n",
    "### Parameters:\n",
    "- **`style_id_to_delete`**: Het ID van de stijl die moet worden verwijderd (type: `str`).\n",
    "\n",
    "\n",
    "### Returnwaarde:\n",
    "- **`True`**: Als de stijl succesvol is verwijderd en het bestand correct is bijgewerkt.\n",
    "\n",
    "Een voorbeeld van hoe de `delete_style()` functie een stijl verwijdert:"
   ],
   "id": "d89f101d8fce846b"
  },
  {
   "metadata": {
    "ExecuteTime": {
     "end_time": "2025-01-07T22:38:24.033530Z",
     "start_time": "2025-01-07T22:38:24.020363Z"
    }
   },
   "cell_type": "code",
   "source": [
    "# Verwijder een stijl op basis van het Style ID\n",
    "ManageStyle.delete_style(\"1234\")\n",
    "\n",
    "# Controleer opnieuw\n",
    "print(get_full_collection())"
   ],
   "id": "d30db2c6d58ca5a6",
   "outputs": [
    {
     "name": "stdout",
     "output_type": "stream",
     "text": [
      "[{'Style ID': '001', 'Style name': 'Jacket', 'Product type': 'Outerwear', 'Textiles': 'Cotton', 'Size range': 'Mens', 'Sizes': 'M, L', 'Remarks': 'Popular item'}]\n"
     ]
    }
   ],
   "execution_count": 17
  },
  {
   "metadata": {},
   "cell_type": "markdown",
   "source": [
    "### Code:\n",
    "Hier is de volledige code voor de `delete_style()` functie:"
   ],
   "id": "e7723105dcd67d18"
  },
  {
   "metadata": {},
   "cell_type": "code",
   "outputs": [],
   "execution_count": null,
   "source": [
    "@staticmethod\n",
    "def delete_style(style_id_to_delete):\n",
    "    \"\"\"Verwijdert een stijl uit het CSV-bestand op basis van het ID.\"\"\"\n",
    "    # Lees de inhoud van het bestand\n",
    "    with open(file_path, mode='r', newline='', encoding='utf-8') as dict_file:\n",
    "        rows = list(csv.DictReader(dict_file))\n",
    "\n",
    "    # Schrijf alle rijen behalve degene die verwijderd moet worden\n",
    "    with open(file_path, mode='w', newline='', encoding='utf-8') as dict_file:\n",
    "        fieldnames = ['Style ID', 'Style name', 'Product type', 'Textiles', 'Size range', 'Sizes', 'Remarks']\n",
    "        writer = csv.DictWriter(dict_file, fieldnames=fieldnames)\n",
    "        writer.writeheader()\n",
    "\n",
    "        for row in rows:\n",
    "            if row['Style ID'] != style_id_to_delete:\n",
    "                writer.writerow(row)\n",
    "\n",
    "    return True"
   ],
   "id": "6ed412de00d0dc15"
  },
  {
   "metadata": {},
   "cell_type": "markdown",
   "source": [
    "## GUI-Tkinter Code - Overzicht\n",
    "\n",
    "De GUI-module van de applicatie is ontworpen met **Tkinter**, een Python-bibliotheek voor grafische gebruikersinterfaces (GUIs). Het biedt een visuele interface waarmee gebruikers stijlen kunnen toevoegen, bekijken en verwijderen zonder direct in de code te werken.\n",
    "\n",
    "\n",
    "### Hoofdonderdelen van de GUI\n",
    "De GUI bestaat uit drie belangrijke secties:\n",
    "\n",
    "1. **Treeview Widget:**\n",
    "   - Geeft een overzicht van alle toegevoegde stijlen.\n",
    "   - Laat gebruikers stijlen selecteren voor verwijdering.\n",
    "\n",
    "2. **Inputvelden:**\n",
    "   - Velden waarmee gebruikers nieuwe stijlen kunnen invoeren (bijv. naam, type, textiel, etc.).\n",
    "\n",
    "3. **Actieknoppen:**\n",
    "   - Knoppen zoals \"SAVE\", \"DELETE\" en \"VIEW\" om acties uit te voeren zoals toevoegen, verwijderen of de collectie bekijken.\n",
    "\n",
    "\n",
    "### Functionaliteiten van de GUI\n",
    "1. **Toevoegen van een nieuwe stijl (SAVE):**\n",
    "   - Gebruikers vullen de velden in.\n",
    "   - Na klikken op de \"SAVE\"-knop wordt de stijl toegevoegd aan zowel de Treeview als het CSV-bestand.\n",
    "\n",
    "2. **Bekijken van de volledige collectie (VIEW):**\n",
    "   - Toont een pop-up venster met een overzicht van alle stijlen uit het CSV-bestand.\n",
    "\n",
    "3. **Verwijderen van een stijl (DELETE):**\n",
    "   - Gebruikers selecteren een stijl in de Treeview.\n",
    "   - Na klikken op \"DELETE\" wordt de stijl verwijderd uit de Treeview en het CSV-bestand."
   ],
   "id": "68670e9ef48247ff"
  },
  {
   "metadata": {},
   "cell_type": "markdown",
   "source": [
    "### Save Data Functie\n",
    "De `save_data` functie voegt een nieuwe stijl toe aan de collectie. Deze functie:\n",
    "1. Controleert de invoervelden.\n",
    "2. Voegt de gegevens toe aan de treeview.\n",
    "3. Slaat de gegevens op in het CSV-bestand.\n",
    "\n",
    "De functie roept ook een andere functie aan om het tekstveld te wissen na het opslaan.\n",
    "\n"
   ],
   "id": "280fcc3b0728212e"
  },
  {
   "metadata": {},
   "cell_type": "code",
   "outputs": [],
   "execution_count": null,
   "source": [
    "from GUI_TKinter_PLM import *\n",
    "def save_data():\n",
    "    \"\"\"Opslaan van stijl in het CSV-bestand en toevoegen aan treeview.\"\"\"\n",
    "    # Stap 1: Haal invoervelden op\n",
    "    style_name = button_style_name.get().strip()\n",
    "    product_type = button_product_type.get().strip()\n",
    "    textiles = get_selected_textiles()\n",
    "    size_range = button_size_range.get().strip()\n",
    "    sizes = button_sizes.get().strip()\n",
    "    remarks = button_remarks.get(\"1.0\", \"end-1c\").strip()\n",
    "\n",
    "    # Stap 2: Controleer of verplichte velden zijn ingevuld\n",
    "    if not style_name or not product_type or not textiles or not size_range or not sizes:\n",
    "        messagebox.showinfo(\"Error\", \"Please fill in all the input fields!\")\n",
    "        return\n",
    "\n",
    "    # Stap 3: Voeg de gegevens toe aan de treeview\n",
    "    new_iid = tree.insert(\"\", tk.END, values=(style_name, product_type, textiles, size_range, sizes, remarks))\n",
    "\n",
    "    # Stap 4: Maak een nieuwe stijl en sla op in het CSV-bestand\n",
    "    style = ManageStyle(\n",
    "        style_id=new_iid,\n",
    "        style_name=style_name,\n",
    "        product_type=product_type,\n",
    "        textiles=textiles,\n",
    "        size_range=size_range,\n",
    "        sizes=sizes,\n",
    "        remarks=remarks\n",
    "    )\n",
    "    try:\n",
    "        style.add_style()\n",
    "        messagebox.showinfo(\"Success\", f\"Style with ID {new_iid} added!\")\n",
    "        clear_fields()\n",
    "    except Exception as e:\n",
    "        messagebox.showerror(\"Error\", f\"Could not save style: {e}\")\n"
   ],
   "id": "762f2cf24a148fcd"
  },
  {
   "metadata": {},
   "cell_type": "markdown",
   "source": [
    "### Delete Data Functie\n",
    "De `delete_data` functie verwijdert een stijl uit:\n",
    "1. De treeview (weergave in de GUI).\n",
    "2. Het CSV-bestand (permanent opslaan).\n",
    "\n",
    "De gebruiker moet een stijl selecteren voordat deze verwijderd kan worden.\n"
   ],
   "id": "ca5adca1d165251b"
  },
  {
   "metadata": {},
   "cell_type": "code",
   "outputs": [],
   "execution_count": null,
   "source": [
    "def delete_data():\n",
    "    \"\"\"Verwijdert gekozen stijl uit CSV-bestand en treeview.\"\"\"\n",
    "    # Stap 1: Controleer of er een stijl is geselecteerd\n",
    "    selected_item = tree.selection()\n",
    "    if not selected_item:\n",
    "        messagebox.showerror(\"Error\", \"Please select a style to delete.\")\n",
    "        return\n",
    "\n",
    "    # Stap 2: Verwijder stijl uit treeview\n",
    "    iid_to_delete = selected_item[0]\n",
    "    tree.delete(iid_to_delete)\n",
    "\n",
    "    # Stap 3: Verwijder stijl uit CSV-bestand\n",
    "    try:\n",
    "        deleted = ManageStyle.delete_style(iid_to_delete)\n",
    "        if deleted:\n",
    "            messagebox.showinfo(\"Success\", f\"Style with ID {iid_to_delete} deleted!\")\n",
    "        else:\n",
    "            messagebox.showwarning(\"Warning\", \"No file found. Nothing to delete.\")\n",
    "    except Exception as e:\n",
    "        messagebox.showerror(\"Error\", f\"Could not delete style: {e}\")\n"
   ],
   "id": "3f8f7586aacdc0b7"
  },
  {
   "metadata": {},
   "cell_type": "markdown",
   "source": [
    "### View Full Collection Functie\n",
    "De `view_full_collection` functie opent een nieuw venster waarin de volledige collectie wordt getoond. Alle stijlen worden geladen vanuit het CSV-bestand en weergegeven in een treeview.\n"
   ],
   "id": "e3776d36f1e185fd"
  },
  {
   "metadata": {},
   "cell_type": "code",
   "outputs": [],
   "execution_count": null,
   "source": [
    "def view_full_collection():\n",
    "    \"\"\"Toont de volledige collectie in een nieuw venster.\"\"\"\n",
    "    # Maak een nieuw venster\n",
    "    collection_window = tk.Toplevel(root)\n",
    "    collection_window.title(\"Full Collection\")\n",
    "    collection_window.geometry(\"1800x400\")\n",
    "\n",
    "    # Treeview voor de collectie\n",
    "    full_tree = ttk.Treeview(collection_window, columns=(\n",
    "        \"Style ID\", \"Style Name\", \"Product Type\", \"Textiles\", \"Size Range\", \"Sizes\", \"Remarks\"), show=\"headings\")\n",
    "    full_tree.pack(fill=tk.BOTH, expand=True, padx=10, pady=10)\n",
    "\n",
    "    # Kopteksten toevoegen\n",
    "    full_tree.heading(\"Style ID\", text=\"Style ID\", anchor=\"center\")\n",
    "    full_tree.heading(\"Style Name\", text=\"Style Name\", anchor=\"center\")\n",
    "    full_tree.heading(\"Product Type\", text=\"Product Type\", anchor=\"center\")\n",
    "    full_tree.heading(\"Textiles\", text=\"Textiles\", anchor=\"center\")\n",
    "    full_tree.heading(\"Size Range\", text=\"Size Range\", anchor=\"center\")\n",
    "    full_tree.heading(\"Sizes\", text=\"Sizes\", anchor=\"center\")\n",
    "    full_tree.heading(\"Remarks\", text=\"Remarks\", anchor=\"center\")\n",
    "\n",
    "    # Gegevens laden en invoegen\n",
    "    try:\n",
    "        styles = get_full_collection()\n",
    "        for style in styles:\n",
    "            full_tree.insert(\"\", tk.END, values=(\n",
    "                style['Style ID'], style['Style name'], style['Product type'], style['Textiles'],\n",
    "                style['Size range'], style['Sizes'], style['Remarks']))\n",
    "    except Exception as e:\n",
    "        messagebox.showerror(\"Error\", f\"Could not load collection: {e}\", parent=collection_window)\n"
   ],
   "id": "7bb0c2320bc0d059"
  },
  {
   "metadata": {},
   "cell_type": "markdown",
   "source": [
    "### Get Selected Textiles Functie\n",
    "Deze functie haalt de geselecteerde textielopties op uit de listbox en converteert deze naar een string.\n"
   ],
   "id": "5a2b93ca3595b9b"
  },
  {
   "metadata": {
    "ExecuteTime": {
     "end_time": "2025-01-10T12:01:36.412335Z",
     "start_time": "2025-01-10T12:01:36.401472Z"
    }
   },
   "cell_type": "code",
   "source": [
    "def get_selected_textiles():\n",
    "    \"\"\"Haal de geselecteerde textielopties op.\"\"\"\n",
    "    selected_indices = button_textiles.curselection()\n",
    "    selected_textiles = [button_textiles.get(i) for i in selected_indices]\n",
    "    return \", \".join(selected_textiles)"
   ],
   "id": "95976a86e69cd484",
   "outputs": [],
   "execution_count": 4
  },
  {
   "metadata": {},
   "cell_type": "markdown",
   "source": [
    "### Load Data into Treeview Functie\n",
    "Deze functie laadt de stijlen uit het CSV-bestand en voegt deze toe aan de treeview bij het opstarten van de applicatie.\n"
   ],
   "id": "4cbbc1f7bb7daec"
  },
  {
   "metadata": {},
   "cell_type": "code",
   "outputs": [],
   "execution_count": null,
   "source": [
    "def load_data_into_treeview():\n",
    "    \"\"\"Laad data uit het CSV-bestand in de treeview.\"\"\"\n",
    "    # Verwijder bestaande items in de treeview\n",
    "    for item in tree.get_children():\n",
    "        tree.delete(item)\n",
    "\n",
    "    # Voeg nieuwe items toe\n",
    "    try:\n",
    "        styles = get_full_collection()\n",
    "        for style in styles:\n",
    "            tree.insert(\"\", tk.END, iid=style['Style ID'], values=(\n",
    "                style['Style ID'], style['Style name'], style['Product type']))\n",
    "    except Exception as e:\n",
    "        messagebox.showerror(\"Error\", f\"Error loading data: {e}\")\n"
   ],
   "id": "77e463412bb3e279"
  },
  {
   "metadata": {},
   "cell_type": "markdown",
   "source": [
    "### Clear Fields Functie\n",
    "Deze functie wist alle invoervelden, zodat de gebruiker een nieuwe stijl kan invoeren.\n"
   ],
   "id": "3ffb96c4a60afdfe"
  },
  {
   "metadata": {
    "ExecuteTime": {
     "end_time": "2025-01-10T12:02:04.529261Z",
     "start_time": "2025-01-10T12:02:04.522794Z"
    }
   },
   "cell_type": "code",
   "source": [
    "def clear_fields():\n",
    "    \"\"\"Wis alle invoervelden.\"\"\"\n",
    "    button_style_name.delete(0, tk.END)\n",
    "    button_product_type.set('')\n",
    "    button_textiles.selection_clear(0, tk.END)\n",
    "    button_size_range.set('')\n",
    "    button_sizes.set('')\n",
    "    button_remarks.delete(\"1.0\", tk.END)\n"
   ],
   "id": "1fd525973543fbed",
   "outputs": [],
   "execution_count": 5
  }
 ],
 "metadata": {
  "kernelspec": {
   "display_name": "Python 3",
   "language": "python",
   "name": "python3"
  },
  "language_info": {
   "codemirror_mode": {
    "name": "ipython",
    "version": 2
   },
   "file_extension": ".py",
   "mimetype": "text/x-python",
   "name": "python",
   "nbconvert_exporter": "python",
   "pygments_lexer": "ipython2",
   "version": "2.7.6"
  }
 },
 "nbformat": 4,
 "nbformat_minor": 5
}
