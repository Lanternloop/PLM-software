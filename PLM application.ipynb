{
 "cells": [
  {
   "cell_type": "code",
   "id": "initial_id",
   "metadata": {
    "collapsed": true,
    "ExecuteTime": {
     "end_time": "2025-01-06T21:04:04.771121Z",
     "start_time": "2025-01-06T21:04:04.765006Z"
    }
   },
   "source": [
    "# Importeer de functie en Class van module met CRUD functionaliteiten en test functie \"get_full_collection()\n",
    "from main_crud_functions import ManageStyle, get_full_collection\n",
    "\n",
    "# Bekijk de volledige collectie\n",
    "collectie = get_full_collection()\n",
    "print(collectie)"
   ],
   "outputs": [
    {
     "name": "stdout",
     "output_type": "stream",
     "text": [
      "[]\n"
     ]
    }
   ],
   "execution_count": 16
  },
  {
   "metadata": {
    "ExecuteTime": {
     "end_time": "2025-01-06T21:03:53.980071Z",
     "start_time": "2025-01-06T21:03:53.974368Z"
    }
   },
   "cell_type": "code",
   "source": [
    "# Maak een nieuwe stijl aan\n",
    "nieuwe_stijl = ManageStyle(\n",
    "    style_id=\"1234\",\n",
    "    style_name=\"Winter Jacket\",\n",
    "    product_type=\"Jackets\",\n",
    "    textiles=\"Wool, Cotton\",\n",
    "    size_range=\"Mens\",\n",
    "    sizes=\"M, L, XL\",\n",
    "    remarks=\"Perfect voor de winter\"\n",
    ")\n",
    "\n",
    "# Voeg de nieuwe stijl toe\n",
    "nieuwe_stijl.add_style()\n",
    "\n",
    "# Controleer of de stijl is toegevoegd\n",
    "print(get_full_collection())"
   ],
   "id": "79cc2e844e6ba75b",
   "outputs": [
    {
     "name": "stdout",
     "output_type": "stream",
     "text": [
      "[]\n"
     ]
    }
   ],
   "execution_count": 13
  },
  {
   "metadata": {
    "ExecuteTime": {
     "end_time": "2025-01-06T17:45:44.481771Z",
     "start_time": "2025-01-06T17:45:44.464970Z"
    }
   },
   "cell_type": "code",
   "source": [
    "# Verwijder een stijl op basis van het Style ID\n",
    "ManageStyle.delete_style(\"1234\")\n",
    "\n",
    "# Controleer opnieuw\n",
    "print(get_full_collection())"
   ],
   "id": "d30db2c6d58ca5a6",
   "outputs": [
    {
     "name": "stdout",
     "output_type": "stream",
     "text": [
      "[{'Style ID': 'I004', 'Style name': 'Apollo jacket', 'Product type': 'Jackets', 'Textiles': 'Tencel (Lyocell), Recycled Nylon', 'Size range': 'Mens', 'Sizes': 'XS, S, M, L, XL, XXL', 'Remarks': 'Wind and waterproof jacket foroutdoor hiking.'}, {'Style ID': 'I005', 'Style name': 'Mercury pants', 'Product type': 'Pants', 'Textiles': 'Organic Cotton, Recycled Polyester (rPET)', 'Size range': 'Mens', 'Sizes': '28, 30, 32, 34, 36, 38', 'Remarks': 'Padded skipants for cold winters.'}, {'Style ID': 'I006', 'Style name': 'Rocker vest', 'Product type': 'Vests', 'Textiles': 'Upcycled DenimWOOL+PLA', 'Size range': 'Mens', 'Sizes': 'XS, S, M, L, XL, XXL', 'Remarks': 'Upcycled Denim wool mix vest'}]\n"
     ]
    }
   ],
   "execution_count": 12
  }
 ],
 "metadata": {
  "kernelspec": {
   "display_name": "Python 3",
   "language": "python",
   "name": "python3"
  },
  "language_info": {
   "codemirror_mode": {
    "name": "ipython",
    "version": 2
   },
   "file_extension": ".py",
   "mimetype": "text/x-python",
   "name": "python",
   "nbconvert_exporter": "python",
   "pygments_lexer": "ipython2",
   "version": "2.7.6"
  }
 },
 "nbformat": 4,
 "nbformat_minor": 5
}
